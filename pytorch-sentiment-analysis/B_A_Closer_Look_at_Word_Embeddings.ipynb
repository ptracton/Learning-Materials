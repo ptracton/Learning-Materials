{
  "nbformat": 4,
  "nbformat_minor": 0,
  "metadata": {
    "kernelspec": {
      "display_name": "Python 3",
      "language": "python",
      "name": "python3"
    },
    "language_info": {
      "codemirror_mode": {
        "name": "ipython",
        "version": 3
      },
      "file_extension": ".py",
      "mimetype": "text/x-python",
      "name": "python",
      "nbconvert_exporter": "python",
      "pygments_lexer": "ipython3",
      "version": "3.7.0"
    },
    "colab": {
      "name": "B - A Closer Look at Word Embeddings.ipynb",
      "provenance": []
    }
  },
  "cells": [
    {
      "cell_type": "markdown",
      "metadata": {
        "id": "l_pml7yQMfJl",
        "colab_type": "text"
      },
      "source": [
        "# B - A Closer Look at Word Embeddings\n",
        "\n",
        "We have very briefly covered how word embeddings (also known as word vectors) are used in the tutorials. In this appendix we'll have a closer look at these embeddings and find some (hopefully) interesting results.\n",
        "\n",
        "Embeddings transform a one-hot encoded vector (a vector that is 0 in elements except one, which is 1) into a much smaller dimension vector of real numbers. The one-hot encoded vector is also known as a *sparse vector*, whilst the real valued vector is known as a *dense vector*. \n",
        "\n",
        "The key concept in these word embeddings is that words that appear in similar _contexts_ appear nearby in the vector space, i.e. the Euclidean distance between these two word vectors is small. By context here, we mean the surrounding words. For example in the sentences \"I purchased some items at the shop\" and \"I purchased some items at the store\" the words 'shop' and 'store' appear in the same context and thus should be close together in vector space.\n",
        "\n",
        "You may have also heard about *word2vec*. *word2vec* is an algorithm (actually a bunch of algorithms) that calculates word vectors from a corpus. In this appendix we use *GloVe* vectors, *GloVe* being another algorithm to calculate word vectors. If you want to know how *word2vec* works, check out a two part series [here](http://mccormickml.com/2016/04/19/word2vec-tutorial-the-skip-gram-model/) and [here](http://mccormickml.com/2017/01/11/word2vec-tutorial-part-2-negative-sampling/), and if you want to find out more about *GloVe*, check the website [here](https://nlp.stanford.edu/projects/glove/).\n",
        "\n",
        "In PyTorch, we use word vectors with the `nn.Embedding` layer, which takes a _**[sentence length, batch size]**_ tensor and transforms it into a _**[sentence length, batch size, embedding dimensions]**_ tensor.\n",
        "\n",
        "In tutorial 2 onwards, we also used pre-trained word embeddings (specifically the GloVe vectors) provided by TorchText. These embeddings have been trained on a gigantic corpus. We can use these pre-trained vectors within any of our models, with the idea that as they have already learned the context of each word they will give us a better starting point for our word vectors. This usually leads to faster training time and/or improved accuracy.\n",
        "\n",
        "In this appendix we won't be training any models, instead we'll be looking at the word embeddings and finding a few interesting things about them.\n",
        "\n",
        "A lot of the code from the first half of this appendix is taken from [here](https://github.com/spro/practical-pytorch/blob/master/glove-word-vectors/glove-word-vectors.ipynb). For more information about word embeddings, go [here](https://monkeylearn.com/blog/word-embeddings-transform-text-numbers/). \n",
        "\n",
        "## Loading the GloVe vectors\n",
        "\n",
        "First, we'll load the GloVe vectors. The `name` field specifies what the vectors have been trained on, here the `6B` means a corpus of 6 billion words. The `dim` argument specifies the dimensionality of the word vectors. GloVe vectors are available in 50, 100, 200 and 300 dimensions. There is also a `42B` and `840B` glove vectors, however they are only available at 300 dimensions."
      ]
    },
    {
      "cell_type": "code",
      "metadata": {
        "id": "Y-kxxkEPMfJp",
        "colab_type": "code",
        "colab": {
          "base_uri": "https://localhost:8080/",
          "height": 34
        },
        "outputId": "1afd4e75-4058-4164-e872-1563cd2dd176"
      },
      "source": [
        "import torchtext.vocab\n",
        "\n",
        "glove = torchtext.vocab.GloVe(name = '6B', dim = 100)\n",
        "\n",
        "print(f'There are {len(glove.itos)} words in the vocabulary')"
      ],
      "execution_count": 1,
      "outputs": [
        {
          "output_type": "stream",
          "text": [
            "There are 400000 words in the vocabulary\n"
          ],
          "name": "stdout"
        }
      ]
    },
    {
      "cell_type": "markdown",
      "metadata": {
        "id": "n3t-9XklMfJv",
        "colab_type": "text"
      },
      "source": [
        "As shown above, there are 400,000 unique words in the GloVe vocabulary. These are the most common words found in the corpus the vectors were trained on. **In these set of GloVe vectors, every single word is lower-case only.**\n",
        "\n",
        "`glove.vectors` is the actual tensor containing the values of the embeddings."
      ]
    },
    {
      "cell_type": "code",
      "metadata": {
        "id": "xNaa4jFVMfJw",
        "colab_type": "code",
        "colab": {
          "base_uri": "https://localhost:8080/",
          "height": 34
        },
        "outputId": "b7eb4279-7551-4360-fe79-06b888eec9a7"
      },
      "source": [
        "glove.vectors.shape"
      ],
      "execution_count": 2,
      "outputs": [
        {
          "output_type": "execute_result",
          "data": {
            "text/plain": [
              "torch.Size([400000, 100])"
            ]
          },
          "metadata": {
            "tags": []
          },
          "execution_count": 2
        }
      ]
    },
    {
      "cell_type": "markdown",
      "metadata": {
        "id": "R-icyfIcMfJ2",
        "colab_type": "text"
      },
      "source": [
        "We can see what word is associated with each row by checking the `itos` (int to string) list. \n",
        "\n",
        "Below implies that row 0 is the vector associated with the word 'the', row 1 for ',' (comma), row 2 for '.' (period), etc."
      ]
    },
    {
      "cell_type": "code",
      "metadata": {
        "id": "hCCrYqO6MfJ3",
        "colab_type": "code",
        "colab": {
          "base_uri": "https://localhost:8080/",
          "height": 34
        },
        "outputId": "29487c80-c386-400f-d05a-8c7211b8f26d"
      },
      "source": [
        "glove.itos[:10]"
      ],
      "execution_count": 3,
      "outputs": [
        {
          "output_type": "execute_result",
          "data": {
            "text/plain": [
              "['the', ',', '.', 'of', 'to', 'and', 'in', 'a', '\"', \"'s\"]"
            ]
          },
          "metadata": {
            "tags": []
          },
          "execution_count": 3
        }
      ]
    },
    {
      "cell_type": "markdown",
      "metadata": {
        "id": "VeYTvrm6MfJ7",
        "colab_type": "text"
      },
      "source": [
        "We can also use the `stoi` (string to int) dictionary, in which we input a word and receive the associated integer/index. If you try get the index of a word that is not in the vocabulary, you receive an error."
      ]
    },
    {
      "cell_type": "code",
      "metadata": {
        "id": "bZEhu93MMfJ8",
        "colab_type": "code",
        "colab": {
          "base_uri": "https://localhost:8080/",
          "height": 34
        },
        "outputId": "35c75031-e80a-43ab-9177-f721323af7de"
      },
      "source": [
        "glove.stoi['the']"
      ],
      "execution_count": 4,
      "outputs": [
        {
          "output_type": "execute_result",
          "data": {
            "text/plain": [
              "0"
            ]
          },
          "metadata": {
            "tags": []
          },
          "execution_count": 4
        }
      ]
    },
    {
      "cell_type": "markdown",
      "metadata": {
        "id": "7GzgqWtPMfKA",
        "colab_type": "text"
      },
      "source": [
        "We can get the vector of a word by first getting the integer associated with it and then indexing into the word embedding tensor with that index."
      ]
    },
    {
      "cell_type": "code",
      "metadata": {
        "id": "LLClshVaMfKB",
        "colab_type": "code",
        "colab": {
          "base_uri": "https://localhost:8080/",
          "height": 34
        },
        "outputId": "d83006cd-e7c4-40fa-a1a6-5f68cbc308ee"
      },
      "source": [
        "glove.vectors[glove.stoi['the']].shape"
      ],
      "execution_count": 5,
      "outputs": [
        {
          "output_type": "execute_result",
          "data": {
            "text/plain": [
              "torch.Size([100])"
            ]
          },
          "metadata": {
            "tags": []
          },
          "execution_count": 5
        }
      ]
    },
    {
      "cell_type": "markdown",
      "metadata": {
        "id": "vop8b66sMfKF",
        "colab_type": "text"
      },
      "source": [
        "We'll be doing this a lot, so we'll create a function that takes in word embeddings and a word then returns the associated vector. It'll also throw an error if the word doesn't exist in the vocabulary."
      ]
    },
    {
      "cell_type": "code",
      "metadata": {
        "id": "ge81NKatMfKG",
        "colab_type": "code",
        "colab": {}
      },
      "source": [
        "def get_vector(embeddings, word):\n",
        "    assert word in embeddings.stoi, f'*{word}* is not in the vocab!'\n",
        "    return embeddings.vectors[embeddings.stoi[word]]"
      ],
      "execution_count": 0,
      "outputs": []
    },
    {
      "cell_type": "markdown",
      "metadata": {
        "id": "uaDsONcAMfKK",
        "colab_type": "text"
      },
      "source": [
        "As before, we use a word to get the associated vector."
      ]
    },
    {
      "cell_type": "code",
      "metadata": {
        "id": "xiIlT02vMfKL",
        "colab_type": "code",
        "colab": {
          "base_uri": "https://localhost:8080/",
          "height": 34
        },
        "outputId": "d0fb0d71-2adb-455a-aa73-5093aa9cfd55"
      },
      "source": [
        "get_vector(glove, 'the').shape"
      ],
      "execution_count": 7,
      "outputs": [
        {
          "output_type": "execute_result",
          "data": {
            "text/plain": [
              "torch.Size([100])"
            ]
          },
          "metadata": {
            "tags": []
          },
          "execution_count": 7
        }
      ]
    },
    {
      "cell_type": "markdown",
      "metadata": {
        "id": "DVBbJNQrMfKP",
        "colab_type": "text"
      },
      "source": [
        "## Similar Contexts\n",
        "\n",
        "Now to start looking at the context of different words. \n",
        "\n",
        "If we want to find the words similar to a certain input word, we first find the vector of this input word, then we scan through our vocabulary calculating the distance between the vector of each word and our input word vector. We then sort these from closest to furthest away.\n",
        "\n",
        "The function below returns the closest 10 words to an input word vector:"
      ]
    },
    {
      "cell_type": "code",
      "metadata": {
        "id": "J5SK8egYMfKQ",
        "colab_type": "code",
        "colab": {}
      },
      "source": [
        "import torch\n",
        "\n",
        "def closest_words(embeddings, vector, n = 10):\n",
        "    \n",
        "    distances = [(word, torch.dist(vector, get_vector(embeddings, word)).item())\n",
        "                 for word in embeddings.itos]\n",
        "    \n",
        "    return sorted(distances, key = lambda w: w[1])[:n]"
      ],
      "execution_count": 0,
      "outputs": []
    },
    {
      "cell_type": "markdown",
      "metadata": {
        "id": "_P0tV-HYMfKU",
        "colab_type": "text"
      },
      "source": [
        "Let's try it out with 'korea'. The closest word is the word 'korea' itself (not very interesting), however all of the words are related in some way. Pyongyang is the capital of North Korea, DPRK is the official name of North Korea, etc.\n",
        "\n",
        "Interestingly, we also get 'Japan' and 'China',  implies that Korea, Japan and China are frequently talked about together in similar contexts. This makes sense as they are geographically situated near each other. "
      ]
    },
    {
      "cell_type": "code",
      "metadata": {
        "id": "wOmg-hPyMfKV",
        "colab_type": "code",
        "colab": {
          "base_uri": "https://localhost:8080/",
          "height": 185
        },
        "outputId": "59ab0933-b2d0-4328-98e1-22fc8092b23b"
      },
      "source": [
        "word_vector = get_vector(glove, 'korea')\n",
        "\n",
        "closest_words(glove, word_vector)"
      ],
      "execution_count": 9,
      "outputs": [
        {
          "output_type": "execute_result",
          "data": {
            "text/plain": [
              "[('korea', 0.0),\n",
              " ('pyongyang', 3.9039554595947266),\n",
              " ('korean', 4.068886756896973),\n",
              " ('dprk', 4.2631049156188965),\n",
              " ('seoul', 4.340494155883789),\n",
              " ('japan', 4.551243782043457),\n",
              " ('koreans', 4.615609169006348),\n",
              " ('south', 4.65822696685791),\n",
              " ('china', 4.839518070220947),\n",
              " ('north', 4.986356735229492)]"
            ]
          },
          "metadata": {
            "tags": []
          },
          "execution_count": 9
        }
      ]
    },
    {
      "cell_type": "markdown",
      "metadata": {
        "id": "3vj8FPpAMfKZ",
        "colab_type": "text"
      },
      "source": [
        "Looking at another country, India, we also get nearby countries: Thailand, Malaysia and Sri Lanka (as two separate words). Australia is relatively close to India (geographically), but Thailand and Malaysia are closer. So why is Australia closer to India in vector space? This is most probably due to India and Australia appearing in the context of [cricket](https://en.wikipedia.org/wiki/Cricket) matches together."
      ]
    },
    {
      "cell_type": "code",
      "metadata": {
        "id": "QZNgSrlMMfKa",
        "colab_type": "code",
        "colab": {
          "base_uri": "https://localhost:8080/",
          "height": 185
        },
        "outputId": "b8367953-4933-44aa-ed86-264b50b45839"
      },
      "source": [
        "word_vector = get_vector(glove, 'india')\n",
        "\n",
        "closest_words(glove, word_vector)"
      ],
      "execution_count": 10,
      "outputs": [
        {
          "output_type": "execute_result",
          "data": {
            "text/plain": [
              "[('india', 0.0),\n",
              " ('pakistan', 3.6954822540283203),\n",
              " ('indian', 4.114313125610352),\n",
              " ('delhi', 4.155975818634033),\n",
              " ('bangladesh', 4.261017799377441),\n",
              " ('lanka', 4.435845851898193),\n",
              " ('sri', 4.515716552734375),\n",
              " ('australia', 4.806082725524902),\n",
              " ('thailand', 4.994781017303467),\n",
              " ('malaysia', 5.009334087371826)]"
            ]
          },
          "metadata": {
            "tags": []
          },
          "execution_count": 10
        }
      ]
    },
    {
      "cell_type": "markdown",
      "metadata": {
        "id": "8p-k_CuDMfKd",
        "colab_type": "text"
      },
      "source": [
        "We'll also create another function that will nicely print out the tuples returned by our `closest_words` function."
      ]
    },
    {
      "cell_type": "code",
      "metadata": {
        "id": "Zna63sHmMfKe",
        "colab_type": "code",
        "colab": {}
      },
      "source": [
        "def print_tuples(tuples):\n",
        "    for w, d in tuples:\n",
        "        print(f'({d:02.04f}) {w}') "
      ],
      "execution_count": 0,
      "outputs": []
    },
    {
      "cell_type": "markdown",
      "metadata": {
        "id": "v11YqCbcMfKh",
        "colab_type": "text"
      },
      "source": [
        "A final word to look at, 'sports'. As we can see, the closest words are most of the sports themselves. "
      ]
    },
    {
      "cell_type": "code",
      "metadata": {
        "id": "gvnlXT1_MfKi",
        "colab_type": "code",
        "colab": {
          "base_uri": "https://localhost:8080/",
          "height": 185
        },
        "outputId": "641783f4-839d-40e5-ad70-ec57e08f99c4"
      },
      "source": [
        "word_vector = get_vector(glove, 'sports')\n",
        "\n",
        "print_tuples(closest_words(glove, word_vector))"
      ],
      "execution_count": 12,
      "outputs": [
        {
          "output_type": "stream",
          "text": [
            "(0.0000) sports\n",
            "(3.5875) sport\n",
            "(4.4590) soccer\n",
            "(4.6508) basketball\n",
            "(4.6561) baseball\n",
            "(4.8028) sporting\n",
            "(4.8763) football\n",
            "(4.9624) professional\n",
            "(4.9824) entertainment\n",
            "(5.0975) media\n"
          ],
          "name": "stdout"
        }
      ]
    },
    {
      "cell_type": "markdown",
      "metadata": {
        "id": "nIHEpgYbMfKm",
        "colab_type": "text"
      },
      "source": [
        "## Analogies\n",
        "\n",
        "Another property of word embeddings is that they can be operated on just as any standard vector and give interesting results.\n",
        "\n",
        "We'll show an example of this first, and then explain it:"
      ]
    },
    {
      "cell_type": "code",
      "metadata": {
        "id": "ByF7MFfKMfKn",
        "colab_type": "code",
        "colab": {}
      },
      "source": [
        "def analogy(embeddings, word1, word2, word3, n=5):\n",
        "    \n",
        "    #get vectors for each word\n",
        "    word1_vector = get_vector(embeddings, word1)\n",
        "    word2_vector = get_vector(embeddings, word2)\n",
        "    word3_vector = get_vector(embeddings, word3)\n",
        "    \n",
        "    #calculate analogy vector\n",
        "    analogy_vector = word2_vector - word1_vector + word3_vector\n",
        "    \n",
        "    #find closest words to analogy vector\n",
        "    candidate_words = closest_words(embeddings, analogy_vector, n+3)\n",
        "    \n",
        "    #filter out words already in analogy\n",
        "    candidate_words = [(word, dist) for (word, dist) in candidate_words \n",
        "                       if word not in [word1, word2, word3]][:n]\n",
        "    \n",
        "    print(f'{word1} is to {word2} as {word3} is to...')\n",
        "    \n",
        "    return candidate_words"
      ],
      "execution_count": 0,
      "outputs": []
    },
    {
      "cell_type": "code",
      "metadata": {
        "id": "3roPuqyGMfKq",
        "colab_type": "code",
        "colab": {
          "base_uri": "https://localhost:8080/",
          "height": 118
        },
        "outputId": "84a44071-9e97-4b14-c5e6-512b6625d65e"
      },
      "source": [
        "print_tuples(analogy(glove, 'man', 'king', 'woman'))"
      ],
      "execution_count": 14,
      "outputs": [
        {
          "output_type": "stream",
          "text": [
            "man is to king as woman is to...\n",
            "(4.0811) queen\n",
            "(4.6429) monarch\n",
            "(4.9055) throne\n",
            "(4.9216) elizabeth\n",
            "(4.9811) prince\n"
          ],
          "name": "stdout"
        }
      ]
    },
    {
      "cell_type": "markdown",
      "metadata": {
        "id": "AIMLXpaIMfKt",
        "colab_type": "text"
      },
      "source": [
        "This is the canonical example which shows off this property of word embeddings. So why does it work? Why does the vector of 'woman' added to the vector of 'king' minus the vector of 'man' give us 'queen'?\n",
        "\n",
        "If we think about it, the vector calculated from 'king' minus 'man' gives us a \"royalty vector\". This is the vector associated with traveling from a man to his royal counterpart, a king. If we add this \"royality vector\" to 'woman', this should travel to her royal equivalent, which is a queen!\n",
        "\n",
        "We can do this with other analogies too. For example, this gets an \"acting career vector\":"
      ]
    },
    {
      "cell_type": "code",
      "metadata": {
        "id": "qyUffjP3MfKu",
        "colab_type": "code",
        "colab": {
          "base_uri": "https://localhost:8080/",
          "height": 118
        },
        "outputId": "cfc5dd99-4e55-496d-b956-54cff5139e96"
      },
      "source": [
        "print_tuples(analogy(glove, 'man', 'actor', 'woman'))"
      ],
      "execution_count": 15,
      "outputs": [
        {
          "output_type": "stream",
          "text": [
            "man is to actor as woman is to...\n",
            "(2.8133) actress\n",
            "(5.0039) comedian\n",
            "(5.1399) actresses\n",
            "(5.2773) starred\n",
            "(5.3085) screenwriter\n"
          ],
          "name": "stdout"
        }
      ]
    },
    {
      "cell_type": "markdown",
      "metadata": {
        "id": "__7gMGKAMfKx",
        "colab_type": "text"
      },
      "source": [
        "For a \"baby animal vector\":"
      ]
    },
    {
      "cell_type": "code",
      "metadata": {
        "id": "6DZELBFqMfKy",
        "colab_type": "code",
        "colab": {
          "base_uri": "https://localhost:8080/",
          "height": 118
        },
        "outputId": "e9990f78-6631-4b67-9536-94ae81cb396b"
      },
      "source": [
        "print_tuples(analogy(glove, 'cat', 'kitten', 'dog'))"
      ],
      "execution_count": 16,
      "outputs": [
        {
          "output_type": "stream",
          "text": [
            "cat is to kitten as dog is to...\n",
            "(3.8146) puppy\n",
            "(4.2944) rottweiler\n",
            "(4.5888) puppies\n",
            "(4.6086) pooch\n",
            "(4.6520) pug\n"
          ],
          "name": "stdout"
        }
      ]
    },
    {
      "cell_type": "markdown",
      "metadata": {
        "id": "blFi7U10MfK2",
        "colab_type": "text"
      },
      "source": [
        "A \"capital city vector\":"
      ]
    },
    {
      "cell_type": "code",
      "metadata": {
        "id": "kd0-ZXGqMfK2",
        "colab_type": "code",
        "colab": {
          "base_uri": "https://localhost:8080/",
          "height": 118
        },
        "outputId": "a67dc0eb-f0d4-4c8c-8d57-c4d6c4cf4604"
      },
      "source": [
        "print_tuples(analogy(glove, 'france', 'paris', 'england'))"
      ],
      "execution_count": 17,
      "outputs": [
        {
          "output_type": "stream",
          "text": [
            "france is to paris as england is to...\n",
            "(4.1426) london\n",
            "(4.4938) melbourne\n",
            "(4.7087) sydney\n",
            "(4.7630) perth\n",
            "(4.7952) birmingham\n"
          ],
          "name": "stdout"
        }
      ]
    },
    {
      "cell_type": "markdown",
      "metadata": {
        "id": "5g63GIc0MfK6",
        "colab_type": "text"
      },
      "source": [
        "A \"musician's genre vector\":"
      ]
    },
    {
      "cell_type": "code",
      "metadata": {
        "id": "6W4BCHyfMfK7",
        "colab_type": "code",
        "colab": {
          "base_uri": "https://localhost:8080/",
          "height": 118
        },
        "outputId": "fb2c6697-7d92-4ca0-b939-41156163f334"
      },
      "source": [
        "print_tuples(analogy(glove, 'elvis', 'rock', 'eminem'))"
      ],
      "execution_count": 18,
      "outputs": [
        {
          "output_type": "stream",
          "text": [
            "elvis is to rock as eminem is to...\n",
            "(5.6597) rap\n",
            "(6.2057) rappers\n",
            "(6.2161) rapper\n",
            "(6.2444) punk\n",
            "(6.2690) hop\n"
          ],
          "name": "stdout"
        }
      ]
    },
    {
      "cell_type": "markdown",
      "metadata": {
        "id": "5zskfd-9MfK9",
        "colab_type": "text"
      },
      "source": [
        "And an \"ingredient vector\":"
      ]
    },
    {
      "cell_type": "code",
      "metadata": {
        "id": "t_ajAoRaMfK-",
        "colab_type": "code",
        "colab": {
          "base_uri": "https://localhost:8080/",
          "height": 118
        },
        "outputId": "a927694b-bdaf-49f6-95a5-d16a64f2e8ab"
      },
      "source": [
        "print_tuples(analogy(glove, 'beer', 'barley', 'wine'))"
      ],
      "execution_count": 19,
      "outputs": [
        {
          "output_type": "stream",
          "text": [
            "beer is to barley as wine is to...\n",
            "(5.6021) grape\n",
            "(5.6760) beans\n",
            "(5.8174) grapes\n",
            "(5.9035) lentils\n",
            "(5.9454) figs\n"
          ],
          "name": "stdout"
        }
      ]
    },
    {
      "cell_type": "markdown",
      "metadata": {
        "id": "hIfVMrKTMfLC",
        "colab_type": "text"
      },
      "source": [
        "## Correcting Spelling Mistakes\n",
        "\n",
        "Another interesting property of word embeddings is that they can actually be used to correct spelling mistakes! \n",
        "\n",
        "We'll put their findings into code and briefly explain them, but to read more about this, check out the [original thread](http://forums.fast.ai/t/nlp-any-libraries-dictionaries-out-there-for-fixing-common-spelling-errors/16411) and the associated [write-up](https://blog.usejournal.com/a-simple-spell-checker-built-from-word-vectors-9f28452b6f26).\n",
        "\n",
        "First, we need to load up the much larger vocabulary GloVe vectors, this is due to the spelling mistakes not appearing in the smaller vocabulary. \n",
        "\n",
        "**Note**: these vectors are very large (~2GB), so watch out if you have a limited internet connection."
      ]
    },
    {
      "cell_type": "code",
      "metadata": {
        "id": "Nxcp9iKBMfLD",
        "colab_type": "code",
        "colab": {}
      },
      "source": [
        "glove = torchtext.vocab.GloVe(name = '840B', dim = 300)"
      ],
      "execution_count": 0,
      "outputs": []
    },
    {
      "cell_type": "markdown",
      "metadata": {
        "id": "PP7xf1pxMfLG",
        "colab_type": "text"
      },
      "source": [
        "Checking the vocabulary size of these embeddings, we can see we now have over 2 million unique words in our vocabulary!"
      ]
    },
    {
      "cell_type": "code",
      "metadata": {
        "id": "TQcxgoAAMfLH",
        "colab_type": "code",
        "colab": {
          "base_uri": "https://localhost:8080/",
          "height": 34
        },
        "outputId": "f029deff-fd11-439d-bb9d-550497969c24"
      },
      "source": [
        "glove.vectors.shape"
      ],
      "execution_count": 21,
      "outputs": [
        {
          "output_type": "execute_result",
          "data": {
            "text/plain": [
              "torch.Size([2196017, 300])"
            ]
          },
          "metadata": {
            "tags": []
          },
          "execution_count": 21
        }
      ]
    },
    {
      "cell_type": "markdown",
      "metadata": {
        "id": "3HYGvQV9MfLL",
        "colab_type": "text"
      },
      "source": [
        "As the vectors were trained with a much larger vocabulary on a larger corpus of text, the words that appear are a little different. Notice how the words 'north', 'south', 'pyongyang' and 'dprk' no longer appear in the most closest words to 'korea'."
      ]
    },
    {
      "cell_type": "code",
      "metadata": {
        "id": "gKpFeO0yMfLL",
        "colab_type": "code",
        "colab": {
          "base_uri": "https://localhost:8080/",
          "height": 185
        },
        "outputId": "edf02cf0-6120-4fae-f061-697a859daed0"
      },
      "source": [
        "word_vector = get_vector(glove, 'korea')\n",
        "\n",
        "print_tuples(closest_words(glove, word_vector))"
      ],
      "execution_count": 22,
      "outputs": [
        {
          "output_type": "stream",
          "text": [
            "(0.0000) korea\n",
            "(3.9857) taiwan\n",
            "(4.4022) korean\n",
            "(4.9016) asia\n",
            "(4.9593) japan\n",
            "(5.0721) seoul\n",
            "(5.4058) thailand\n",
            "(5.6025) singapore\n",
            "(5.7010) russia\n",
            "(5.7240) hong\n"
          ],
          "name": "stdout"
        }
      ]
    },
    {
      "cell_type": "markdown",
      "metadata": {
        "id": "wiZQlc7kMfLP",
        "colab_type": "text"
      },
      "source": [
        "Our first step to correcting spelling mistakes is looking at the vector for a misspelling of the word 'reliable'."
      ]
    },
    {
      "cell_type": "code",
      "metadata": {
        "id": "960t7fWNMfLQ",
        "colab_type": "code",
        "colab": {
          "base_uri": "https://localhost:8080/",
          "height": 185
        },
        "outputId": "cca6c27f-594c-41a0-88a5-887fa5426784"
      },
      "source": [
        "word_vector = get_vector(glove, 'relieable')\n",
        "\n",
        "print_tuples(closest_words(glove, word_vector))"
      ],
      "execution_count": 23,
      "outputs": [
        {
          "output_type": "stream",
          "text": [
            "(0.0000) relieable\n",
            "(5.0366) relyable\n",
            "(5.2610) realible\n",
            "(5.4719) realiable\n",
            "(5.5402) relable\n",
            "(5.5917) relaible\n",
            "(5.6412) reliabe\n",
            "(5.8802) relaiable\n",
            "(5.9593) stabel\n",
            "(5.9981) consitant\n"
          ],
          "name": "stdout"
        }
      ]
    },
    {
      "cell_type": "markdown",
      "metadata": {
        "id": "y0o9tZIPMfLT",
        "colab_type": "text"
      },
      "source": [
        "Notice how the correct spelling, \"reliable\", does not appear in the top 10 closest words. Surely the misspellings of a word should appear next to the correct spelling of the word as they appear in the same context, right? \n",
        "\n",
        "The hypothesis is that misspellings of words are all equally shifted away from their correct spelling. This is because articles of text that contain spelling mistakes are usually written in an informal manner where correct spelling doesn't matter as much (such as tweets/blog posts), thus spelling errors will appear together as they appear in context of informal articles.\n",
        "\n",
        "Similar to how we created analogies before, we can create a \"correct spelling\" vector. This time, instead of using a single example to create our vector, we'll use the average of multiple examples. This will hopefully give better accuracy!\n",
        "\n",
        "We first create a vector for the correct spelling, 'reliable', then calculate the difference between the \"reliable vector\" and each of the 8 misspellings of 'reliable'. As we are going to concatenate these 8 misspelling tensors together we need to unsqueeze a \"batch\" dimension to them."
      ]
    },
    {
      "cell_type": "code",
      "metadata": {
        "id": "lSunwXBnMfLV",
        "colab_type": "code",
        "colab": {}
      },
      "source": [
        "reliable_vector = get_vector(glove, 'reliable')\n",
        "\n",
        "reliable_misspellings = ['relieable', 'relyable', 'realible', 'realiable', \n",
        "                         'relable', 'relaible', 'reliabe', 'relaiable']\n",
        "\n",
        "diff_reliable = [(reliable_vector - get_vector(glove, s)).unsqueeze(0) \n",
        "                 for s in reliable_misspellings]"
      ],
      "execution_count": 0,
      "outputs": []
    },
    {
      "cell_type": "markdown",
      "metadata": {
        "id": "8THE7tNiMfLZ",
        "colab_type": "text"
      },
      "source": [
        "We take the average of these 8 'difference from reliable' vectors to get our \"misspelling vector\"."
      ]
    },
    {
      "cell_type": "code",
      "metadata": {
        "id": "vIkWwlabMfLa",
        "colab_type": "code",
        "colab": {}
      },
      "source": [
        "misspelling_vector = torch.cat(diff_reliable, dim = 0).mean(dim = 0)"
      ],
      "execution_count": 0,
      "outputs": []
    },
    {
      "cell_type": "markdown",
      "metadata": {
        "id": "5d1f7dsXMfLe",
        "colab_type": "text"
      },
      "source": [
        "We can now correct other spelling mistakes using this \"misspelling vector\" by finding the closest words to the sum of the vector of a misspelled word and the \"misspelling vector\".\n",
        "\n",
        "For a misspelling of \"because\":"
      ]
    },
    {
      "cell_type": "code",
      "metadata": {
        "id": "c-9uRCeyMfLf",
        "colab_type": "code",
        "colab": {
          "base_uri": "https://localhost:8080/",
          "height": 185
        },
        "outputId": "ccedcce2-064a-4f5d-a13d-b592c68064ae"
      },
      "source": [
        "word_vector = get_vector(glove, 'becuase')\n",
        "\n",
        "print_tuples(closest_words(glove, word_vector + misspelling_vector))"
      ],
      "execution_count": 26,
      "outputs": [
        {
          "output_type": "stream",
          "text": [
            "(6.1090) because\n",
            "(6.4250) even\n",
            "(6.4358) fact\n",
            "(6.4914) sure\n",
            "(6.5094) though\n",
            "(6.5601) obviously\n",
            "(6.5682) reason\n",
            "(6.5856) if\n",
            "(6.6099) but\n",
            "(6.6415) why\n"
          ],
          "name": "stdout"
        }
      ]
    },
    {
      "cell_type": "markdown",
      "metadata": {
        "id": "dcgkGYPuMfLh",
        "colab_type": "text"
      },
      "source": [
        "For a misspelling of \"definitely\":"
      ]
    },
    {
      "cell_type": "code",
      "metadata": {
        "id": "pP-nj-JyMfLi",
        "colab_type": "code",
        "colab": {
          "base_uri": "https://localhost:8080/",
          "height": 185
        },
        "outputId": "33669688-f006-440d-9531-11b58ea44004"
      },
      "source": [
        "word_vector = get_vector(glove, 'defintiely')\n",
        "\n",
        "print_tuples(closest_words(glove, word_vector + misspelling_vector))"
      ],
      "execution_count": 27,
      "outputs": [
        {
          "output_type": "stream",
          "text": [
            "(5.4070) definitely\n",
            "(5.5643) certainly\n",
            "(5.7192) sure\n",
            "(5.8152) well\n",
            "(5.8588) always\n",
            "(5.8812) also\n",
            "(5.9557) simply\n",
            "(5.9667) consider\n",
            "(5.9821) probably\n",
            "(5.9948) definately\n"
          ],
          "name": "stdout"
        }
      ]
    },
    {
      "cell_type": "markdown",
      "metadata": {
        "id": "HI5FeL-xMfLk",
        "colab_type": "text"
      },
      "source": [
        "For a misspelling of \"consistent\":"
      ]
    },
    {
      "cell_type": "code",
      "metadata": {
        "id": "TxTjG3o7MfLl",
        "colab_type": "code",
        "colab": {
          "base_uri": "https://localhost:8080/",
          "height": 185
        },
        "outputId": "7ad6c765-9438-45ae-80cd-4066b795bcd5"
      },
      "source": [
        "word_vector = get_vector(glove, 'consistant')\n",
        "\n",
        "print_tuples(closest_words(glove, word_vector + misspelling_vector))"
      ],
      "execution_count": 28,
      "outputs": [
        {
          "output_type": "stream",
          "text": [
            "(5.9641) consistent\n",
            "(6.3674) reliable\n",
            "(7.0195) consistant\n",
            "(7.0299) consistently\n",
            "(7.1605) accurate\n",
            "(7.2737) fairly\n",
            "(7.3037) good\n",
            "(7.3520) reasonable\n",
            "(7.3801) dependable\n",
            "(7.4027) ensure\n"
          ],
          "name": "stdout"
        }
      ]
    },
    {
      "cell_type": "markdown",
      "metadata": {
        "id": "-oq_iTi5MfLo",
        "colab_type": "text"
      },
      "source": [
        "For a misspelling of \"package\":"
      ]
    },
    {
      "cell_type": "code",
      "metadata": {
        "id": "y3Eag4kOMfLp",
        "colab_type": "code",
        "colab": {
          "base_uri": "https://localhost:8080/",
          "height": 185
        },
        "outputId": "24d7f993-d6b1-4630-c095-a7186c0e521a"
      },
      "source": [
        "word_vector = get_vector(glove, 'pakage')\n",
        "\n",
        "print_tuples(closest_words(glove, word_vector + misspelling_vector))"
      ],
      "execution_count": 29,
      "outputs": [
        {
          "output_type": "stream",
          "text": [
            "(6.6117) package\n",
            "(6.9315) packages\n",
            "(7.0195) pakage\n",
            "(7.0911) comes\n",
            "(7.1241) provide\n",
            "(7.1469) offer\n",
            "(7.1861) reliable\n",
            "(7.2431) well\n",
            "(7.2434) choice\n",
            "(7.2453) offering\n"
          ],
          "name": "stdout"
        }
      ]
    },
    {
      "cell_type": "markdown",
      "metadata": {
        "id": "fz6cq3wEMfLt",
        "colab_type": "text"
      },
      "source": [
        "For a more in-depth look at this, check out the [write-up](https://blog.usejournal.com/a-simple-spell-checker-built-from-word-vectors-9f28452b6f26)."
      ]
    }
  ]
}