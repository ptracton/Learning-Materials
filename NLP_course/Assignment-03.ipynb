{
 "cells": [
  {
   "cell_type": "markdown",
   "metadata": {},
   "source": [
    "## Assignment-03 First Step of Machine Learning: Model and Evaluation"
   ]
  },
  {
   "cell_type": "markdown",
   "metadata": {},
   "source": [
    "同学们，今天我们的学习了基本的机器学习概念，相比你已经对机器学习的这些方法有一个基本的认识了。值得说明的是，机器学习不仅仅是一系列方法，更重要的是一种思维体系，即：依据以往的、现有的数据，构建某种方法来解决未见过的问题。而且决策树，贝叶斯只是实现这个目标的一个方法，包括之后的神经网络。很有可能有一天，神经网络也会被淘汰，但是重要的是我们要理解机器学习的目标，就是尽可能的自动化解决未知的问题。"
   ]
  },
  {
   "cell_type": "markdown",
   "metadata": {},
   "source": [
    "![](https://timgsa.baidu.com/timg?image&quality=80&size=b9999_10000&sec=1571556399207&di=4a97dc15ad08dd49d3748d1edf6109b3&imgtype=0&src=http%3A%2F%2Fc.hiphotos.baidu.com%2Fzhidao%2Fwh%3D450%2C600%2Fsign%3Dae742c6aedcd7b89e93932873a146e91%2F5d6034a85edf8db1b16050c40223dd54574e74c7.jpg)"
   ]
  },
  {
   "cell_type": "markdown",
   "metadata": {},
   "source": [
    "## Part-1 Programming Review 编程回顾"
   ]
  },
  {
   "cell_type": "code",
   "execution_count": 1,
   "metadata": {},
   "outputs": [],
   "source": [
    "import numpy as np\n",
    "from scipy.spatial.distance import cdist\n",
    "from scipy.optimize import minimize\n",
    "import pandas as pd\n",
    "import matplotlib.pyplot as plt\n",
    "%matplotlib inline\n",
    "from sklearn.datasets import load_iris, make_blobs\n",
    "from sklearn.linear_model import LinearRegression\n",
    "from sklearn.cluster import KMeans\n",
    "from sklearn.preprocessing import LabelEncoder"
   ]
  },
  {
   "cell_type": "markdown",
   "metadata": {},
   "source": [
    "#### 1. Re-code the Linear-Regression Model using scikit-learning(10 points)"
   ]
  },
  {
   "cell_type": "markdown",
   "metadata": {},
   "source": [
    "<评阅点>： \n",
    "> + 是否完成线性回归模型 (4')\n",
    "+ 能够进行预测新数据(3')\n",
    "+ 能够进行可视化操作(3')"
   ]
  },
  {
   "cell_type": "code",
   "execution_count": 2,
   "metadata": {},
   "outputs": [],
   "source": [
    "# 数据集\n",
    "rng = np.random.RandomState(0)\n",
    "X = np.random.random((20, 1))\n",
    "y = 13.4 * X + 5 + rng.randint(-5, 5, size=(20, 1))\n",
    "y = y.ravel()"
   ]
  },
  {
   "cell_type": "code",
   "execution_count": 3,
   "metadata": {},
   "outputs": [
    {
     "data": {
      "text/plain": [
       "LinearRegression(copy_X=True, fit_intercept=True, n_jobs=None, normalize=False)"
      ]
     },
     "execution_count": 3,
     "metadata": {},
     "output_type": "execute_result"
    }
   ],
   "source": [
    "# 完成线性回归模型\n",
    "reg = LinearRegression()\n",
    "reg.fit(X, y)"
   ]
  },
  {
   "cell_type": "code",
   "execution_count": 4,
   "metadata": {},
   "outputs": [
    {
     "name": "stdout",
     "output_type": "stream",
     "text": [
      "[ 3.84881837 11.72971788 19.61061739]\n"
     ]
    }
   ],
   "source": [
    "# 进行预测新数据\n",
    "pred = reg.predict([[0], [0.5], [1]])\n",
    "print(pred)"
   ]
  },
  {
   "cell_type": "code",
   "execution_count": 5,
   "metadata": {},
   "outputs": [
    {
     "data": {
      "image/png": "[encoded data removed]",
      "text/plain": [
       "<Figure size 432x288 with 1 Axes>"
      ]
     },
     "metadata": {
      "needs_background": "light"
     },
     "output_type": "display_data"
    }
   ],
   "source": [
    "# 进行可视化操作\n",
    "plt.figure()\n",
    "plt.scatter(X.ravel(), y)\n",
    "x1, x2 = plt.gca().get_xlim()\n",
    "y1, y2 = reg.predict([[x1], [x2]])\n",
    "plt.plot([x1, x2], [y1, y2], color=\"r\")\n",
    "plt.show()"
   ]
  },
  {
   "cell_type": "markdown",
   "metadata": {},
   "source": [
    "#### 2. Complete the unfinished KNN Model using pure python to solve the previous Line-Regression problem. (8 points)"
   ]
  },
  {
   "cell_type": "markdown",
   "metadata": {},
   "source": [
    "<评阅点>:\n",
    "> + 是否完成了KNN模型 (4')\n",
    "+ 是否能够预测新的数据 (4')"
   ]
  },
  {
   "cell_type": "code",
   "execution_count": 6,
   "metadata": {},
   "outputs": [],
   "source": [
    "# 完成了KNN模型\n",
    "class KNeighborsRegressor():\n",
    "    def __init__(self, n_neighbors=5):\n",
    "        self.n_neighbors = n_neighbors\n",
    "\n",
    "    def fit(self, X, y):\n",
    "        self._fit_X = X\n",
    "        self._y = y\n",
    "        return self\n",
    "\n",
    "    def predict(self, X):\n",
    "        dist_mat = cdist(X, self._fit_X)\n",
    "        neigh_ind = np.argsort(dist_mat, axis=1)[:, :self.n_neighbors]\n",
    "        return np.mean(self._y[neigh_ind], axis=1)"
   ]
  },
  {
   "cell_type": "code",
   "execution_count": 7,
   "metadata": {},
   "outputs": [
    {
     "name": "stdout",
     "output_type": "stream",
     "text": [
      "[ 7.1690097  10.27661577 16.97147501]\n"
     ]
    }
   ],
   "source": [
    "# 预测新的数据 \n",
    "reg = KNeighborsRegressor()\n",
    "reg.fit(X, y)\n",
    "pred = reg.predict([[0], [0.5], [1]])\n",
    "print(pred)"
   ]
  },
  {
   "cell_type": "markdown",
   "metadata": {},
   "source": [
    "#### 3. Re-code the Decision Tree, which could sort the features by salience. (12 points)"
   ]
  },
  {
   "cell_type": "markdown",
   "metadata": {},
   "source": [
    "<评阅点>\n",
    "> + 是否实现了信息熵 (1' )\n",
    "+ 是否实现了最优先特征点的选择(5')\n",
    "+ 是否实现了持续的特征选则(6')"
   ]
  },
  {
   "cell_type": "code",
   "execution_count": 8,
   "metadata": {},
   "outputs": [],
   "source": [
    "class TreeNode():\n",
    "    def __init__(self):\n",
    "        self.left_child = -1\n",
    "        self.right_child = -1\n",
    "        self.feature = None\n",
    "        self.threshold = None\n",
    "        self.impurity = None\n",
    "        self.n_node = None\n",
    "        self.value = None"
   ]
  },
  {
   "cell_type": "code",
   "execution_count": 9,
   "metadata": {},
   "outputs": [],
   "source": [
    "class DecisionTreeClassifier():\n",
    "    def __init__(self, max_depth=2):\n",
    "        self.max_depth = max_depth\n",
    "\n",
    "    # 实现了信息熵 \n",
    "    def _entropy(self, y_cnt):\n",
    "        prob = y_cnt / np.sum(y_cnt)\n",
    "        prob = prob[prob > 0]\n",
    "        return -np.sum(prob * np.log2(prob))\n",
    "\n",
    "    # 实现了持续的特征选则\n",
    "    def _build_tree(self, X, y, cur_depth, parent, is_left):\n",
    "        if np.unique(X, axis=0).shape[0] == 1 or np.unique(y).shape[0] == 1 or cur_depth == self.max_depth:\n",
    "            cur_node = TreeNode()\n",
    "            cur_node.n_node = X.shape[0]\n",
    "            cur_node.value = np.bincount(y, minlength=self.n_classes_)\n",
    "            cur_node.impurity = self._entropy(cur_node.value)\n",
    "            cur_id = len(self.tree_)\n",
    "            self.tree_.append(cur_node)\n",
    "            if parent is not None:\n",
    "                if is_left:\n",
    "                    self.tree_[parent].left_child = cur_id\n",
    "                else:\n",
    "                    self.tree_[parent].right_child = cur_id\n",
    "            return\n",
    "        # 实现了最优先特征点的选择\n",
    "        best_improvement = -np.inf\n",
    "        best_feature = None\n",
    "        best_threshold = None\n",
    "        best_left_ind = None\n",
    "        best_right_ind = None\n",
    "        y_cnt = np.bincount(y, minlength=self.n_classes_)\n",
    "        for i in range(X.shape[1]):\n",
    "            ind = np.argsort(X[:, i])\n",
    "            y_cnt_left = np.bincount([], minlength=self.n_classes_)\n",
    "            y_cnt_right = y_cnt.copy()\n",
    "            n_left = 0\n",
    "            n_right = X.shape[0]\n",
    "            for j in range(ind.shape[0] - 1):\n",
    "                y_cnt_left[y[ind[j]]] += 1\n",
    "                y_cnt_right[y[ind[j]]] -= 1\n",
    "                n_left += 1\n",
    "                n_right -= 1\n",
    "                if j + 1 < ind.shape[0] - 1 and np.isclose(X[ind[j], i], X[ind[j + 1], i]):\n",
    "                    continue\n",
    "                cur_improvement = -n_left * self._entropy(y_cnt_left) - n_right * self._entropy(y_cnt_right)\n",
    "                if cur_improvement > best_improvement:\n",
    "                    best_improvement = cur_improvement\n",
    "                    best_feature = i\n",
    "                    best_threshold = X[ind[j], i]\n",
    "                    best_left_ind = ind[:j + 1]\n",
    "                    best_right_ind = ind[j + 1:]\n",
    "        cur_node = TreeNode()\n",
    "        cur_node.feature = best_feature\n",
    "        cur_node.threshold = best_threshold\n",
    "        cur_node.n_node = X.shape[0]\n",
    "        cur_node.value = y_cnt\n",
    "        cur_node.impurity = self._entropy(y_cnt)\n",
    "        cur_id = len(self.tree_)\n",
    "        self.tree_.append(cur_node)\n",
    "        if parent is not None:\n",
    "            if is_left:\n",
    "                self.tree_[parent].left_child = cur_id\n",
    "            else:\n",
    "                self.tree_[parent].right_child = cur_id\n",
    "        if cur_depth < self.max_depth:\n",
    "            self._build_tree(X[best_left_ind], y[best_left_ind], cur_depth + 1, cur_id, True)\n",
    "            self._build_tree(X[best_right_ind], y[best_right_ind], cur_depth + 1, cur_id, False)\n",
    "\n",
    "    def fit(self, X, y):\n",
    "        self.n_features = X.shape[1]\n",
    "        self.classes_, y_train = np.unique(y, return_inverse=True)\n",
    "        self.n_classes_ = len(self.classes_)\n",
    "        self.tree_ = []\n",
    "        self._build_tree(X, y_train, 0, None, None)\n",
    "        return self\n",
    "\n",
    "    def apply(self, X):\n",
    "        pred = np.zeros(X.shape[0], dtype=np.int)\n",
    "        for i in range(X.shape[0]):\n",
    "            cur_node = 0\n",
    "            while self.tree_[cur_node].left_child != -1:\n",
    "                if X[i][self.tree_[cur_node].feature] <= self.tree_[cur_node].threshold:\n",
    "                    cur_node = self.tree_[cur_node].left_child\n",
    "                else:\n",
    "                    cur_node = self.tree_[cur_node].right_child\n",
    "            pred[i] = cur_node\n",
    "        return pred\n",
    "\n",
    "    def predict(self, X):\n",
    "        pred = self.apply(X)\n",
    "        return np.array([self.classes_[np.argmax(self.tree_[p].value)] for p in pred])"
   ]
  },
  {
   "cell_type": "code",
   "execution_count": 10,
   "metadata": {},
   "outputs": [
    {
     "data": {
      "text/plain": [
       "<__main__.DecisionTreeClassifier at 0x230cac96c88>"
      ]
     },
     "execution_count": 10,
     "metadata": {},
     "output_type": "execute_result"
    }
   ],
   "source": [
    "X, y = load_iris(return_X_y=True)\n",
    "X = X[:, [0, 1]]\n",
    "clf = DecisionTreeClassifier(max_depth=2)\n",
    "clf.fit(X, y)"
   ]
  },
  {
   "cell_type": "code",
   "execution_count": 11,
   "metadata": {},
   "outputs": [
    {
     "data": {
      "image/png": "[encoded data removed]",
      "text/plain": [
       "<Figure size 432x288 with 1 Axes>"
      ]
     },
     "metadata": {
      "needs_background": "light"
     },
     "output_type": "display_data"
    }
   ],
   "source": [
    "plt.figure()\n",
    "x_min, x_max = X[:, 0].min() - 1, X[:, 0].max() + 1\n",
    "y_min, y_max = X[:, 1].min() - 1, X[:, 1].max() + 1\n",
    "xx, yy = np.meshgrid(np.arange(x_min, x_max, 0.01),\n",
    "                     np.arange(y_min, y_max, 0.01))\n",
    "Z = clf.predict(np.c_[xx.ravel(), yy.ravel()])\n",
    "Z = Z.reshape(xx.shape)\n",
    "plt.contourf(xx, yy, Z, cmap=plt.cm.RdYlBu)\n",
    "for i, color in zip(range(3), \"ryb\"):\n",
    "    idx = np.where(y == i)\n",
    "    plt.scatter(X[idx, 0], X[idx, 1], c=color,\n",
    "                cmap=plt.cm.RdYlBu, edgecolor='black', s=15)\n",
    "plt.show()"
   ]
  },
  {
   "cell_type": "markdown",
   "metadata": {},
   "source": [
    "#### 4. Finish the K-Means using 2-D matplotlib (8 points)"
   ]
  },
  {
   "cell_type": "markdown",
   "metadata": {},
   "source": [
    "<评阅点>\n",
    "> + 是否完成了KMeans模型，基于scikit-learning (3')\n",
    "+ 是否完成了可视化任务（5'）"
   ]
  },
  {
   "cell_type": "code",
   "execution_count": 12,
   "metadata": {},
   "outputs": [
    {
     "data": {
      "text/plain": [
       "KMeans(algorithm='auto', copy_x=True, init='k-means++', max_iter=300,\n",
       "       n_clusters=3, n_init=10, n_jobs=None, precompute_distances='auto',\n",
       "       random_state=None, tol=0.0001, verbose=0)"
      ]
     },
     "execution_count": 12,
     "metadata": {},
     "output_type": "execute_result"
    }
   ],
   "source": [
    "X, _ = make_blobs(random_state=42)\n",
    "clust = KMeans(n_clusters=3)\n",
    "clust.fit(X)"
   ]
  },
  {
   "cell_type": "code",
   "execution_count": 13,
   "metadata": {},
   "outputs": [
    {
     "data": {
      "image/png": "[encoded data removed]",
      "text/plain": [
       "<Figure size 432x288 with 1 Axes>"
      ]
     },
     "metadata": {
      "needs_background": "light"
     },
     "output_type": "display_data"
    }
   ],
   "source": [
    "plt.figure()\n",
    "plt.scatter(X[:, 0], X[:, 1], c=clust.labels_)\n",
    "plt.show()"
   ]
  },
  {
   "cell_type": "markdown",
   "metadata": {},
   "source": [
    "## Part-2 Question and Answer 问答"
   ]
  },
  {
   "cell_type": "markdown",
   "metadata": {},
   "source": [
    "#### 1. What's the *model*? why  all the models are wrong, but some are useful? (5 points) "
   ]
  },
  {
   "cell_type": "markdown",
   "metadata": {},
   "source": [
    "Ans: 模型尝试自动化解决生活中的问题，所有的模型或多或少都有局限性，但是不影响其在特定场景下的实用性"
   ]
  },
  {
   "cell_type": "markdown",
   "metadata": {},
   "source": [
    "<评阅点>\n",
    "> + 对模型的理解是否正确,对模型的抽象性是否正确(5')"
   ]
  },
  {
   "cell_type": "markdown",
   "metadata": {},
   "source": [
    "#### 2. What's the underfitting and overfitting? List the reasons that could make model overfitting or underfitting. (10 points)"
   ]
  },
  {
   "cell_type": "markdown",
   "metadata": {},
   "source": [
    "Ans: \n",
    "- 欠拟合是指数据在训练数据上表现差，在测试数据上同样表现差，即模型没有充分拟合训练数据，常见原因是模型过于简单\n",
    "- 过拟合是指数据在训练数据上表现好，在测试数据上表现差，即模型过分拟合训练数据，常见原因是模型国语复杂或数据过于缺乏"
   ]
  },
  {
   "cell_type": "markdown",
   "metadata": {},
   "source": [
    "<评阅点>\n",
    "> + 对过拟合和欠拟合的理解是否正确 (3')\n",
    "+ 对欠拟合产生的原因是否理解正确(2')\n",
    "+ 对过拟合产生的原因是否理解正确(5')"
   ]
  },
  {
   "cell_type": "markdown",
   "metadata": {},
   "source": [
    "#### 3. What's the precision, recall, AUC, F1, F2score. What are they mainly target on? (12')"
   ]
  },
  {
   "cell_type": "markdown",
   "metadata": {},
   "source": [
    "Ans: \n",
    "- 这些都是分类问题的指标，主要解决类别不均衡时accuracy失效的问题\n",
    "- precision = TP / (TP + FP)\n",
    "- recall = TP / (TP + FN)\n",
    "- F1 = 2 * precision * recall / (precision + recall)\n",
    "- F2 = 5 * precision * recall / (4 * precision + recall)\n",
    "- AUC: ROC曲线下方面积，ROC曲线x轴FPR = FP / (TN + FP)，y轴TPR = TP / (TP + FN)"
   ]
  },
  {
   "cell_type": "markdown",
   "metadata": {},
   "source": [
    "<评阅点>\n",
    "> + 对precision, recall, AUC, F1, F2 理解是否正确(6‘)\n",
    "+ 对precision, recall, AUC, F1, F2的使用侧重点是否理解正确 (6’)"
   ]
  },
  {
   "cell_type": "markdown",
   "metadata": {},
   "source": [
    "#### 4. Based on our course and yourself mind, what's the machine learning?  (8')"
   ]
  },
  {
   "cell_type": "markdown",
   "metadata": {},
   "source": [
    "Ans: 以自动化的方式解决生活中的问题"
   ]
  },
  {
   "cell_type": "markdown",
   "metadata": {},
   "source": [
    "<评阅点> 开放式问题，是否能说出来机器学习这种思维方式和传统的分析式编程的区别（8'）"
   ]
  },
  {
   "cell_type": "markdown",
   "metadata": {},
   "source": [
    "#### 5. \"正确定义了机器学习模型的评价标准(evaluation)， 问题基本上就已经解决一半\". 这句话是否正确？你是怎么看待的？ (8‘)"
   ]
  },
  {
   "cell_type": "markdown",
   "metadata": {},
   "source": [
    "Ans: 正确，只有根据需求定义评价标准才能不断提升模型"
   ]
  },
  {
   "cell_type": "markdown",
   "metadata": {},
   "source": [
    "<评阅点> 开放式问题，主要看能理解评价指标对机器学习模型的重要性."
   ]
  },
  {
   "cell_type": "markdown",
   "metadata": {},
   "source": [
    "## Part-03 Programming Practice 编程练习"
   ]
  },
  {
   "cell_type": "markdown",
   "metadata": {},
   "source": [
    "1. In our course and previous practice, we complete some importance components of Decision Tree. In this problem, you need to build a **completed** Decision Tree Model. You show finish a `predicate()` function, which accepts three parameters **<gender, income, family_number>**, and outputs the predicated 'bought': 1 or 0.  (20 points)"
   ]
  },
  {
   "cell_type": "code",
   "execution_count": 14,
   "metadata": {},
   "outputs": [],
   "source": [
    "## 前面的Re-code the Decision Tree已经实现了完整的DecisionTreeClassifier"
   ]
  },
  {
   "cell_type": "code",
   "execution_count": 15,
   "metadata": {},
   "outputs": [],
   "source": [
    "mock_data = {\n",
    "    'gender':['F', 'F', 'F', 'F', 'M', 'M', 'M'],\n",
    "    'income': ['+10', '-10', '+10', '+10', '+10', '+10', '-10'],\n",
    "    'family_number': [1, 1, 2, 1, 1, 1, 2],\n",
    "    'bought': [1, 1, 1, 0, 0, 0, 1],\n",
    "}"
   ]
  },
  {
   "cell_type": "code",
   "execution_count": 16,
   "metadata": {},
   "outputs": [],
   "source": [
    "X_train = pd.DataFrame(mock_data)\n",
    "le1 = LabelEncoder().fit(X_train[\"gender\"])\n",
    "le2 = LabelEncoder().fit(X_train[\"income\"])\n",
    "X_train[\"gender\"] = le1.transform(X_train[\"gender\"])\n",
    "X_train[\"income\"] = le2.transform(X_train[\"income\"])\n",
    "y_train = np.array(X_train[\"bought\"])\n",
    "X_train = np.array(X_train[[\"gender\", \"income\", \"family_number\"]])"
   ]
  },
  {
   "cell_type": "code",
   "execution_count": 17,
   "metadata": {},
   "outputs": [
    {
     "data": {
      "text/plain": [
       "array([[0, 0, 1],\n",
       "       [0, 1, 1],\n",
       "       [0, 0, 2],\n",
       "       [0, 0, 1],\n",
       "       [1, 0, 1],\n",
       "       [1, 0, 1],\n",
       "       [1, 1, 2]], dtype=int64)"
      ]
     },
     "execution_count": 17,
     "metadata": {},
     "output_type": "execute_result"
    }
   ],
   "source": [
    "X_train"
   ]
  },
  {
   "cell_type": "code",
   "execution_count": 18,
   "metadata": {},
   "outputs": [
    {
     "data": {
      "text/plain": [
       "array([1, 1, 1, 0, 0, 0, 1], dtype=int64)"
      ]
     },
     "execution_count": 18,
     "metadata": {},
     "output_type": "execute_result"
    }
   ],
   "source": [
    "y_train"
   ]
  },
  {
   "cell_type": "code",
   "execution_count": 19,
   "metadata": {},
   "outputs": [
    {
     "data": {
      "text/plain": [
       "<__main__.DecisionTreeClassifier at 0x230cb1c3438>"
      ]
     },
     "execution_count": 19,
     "metadata": {},
     "output_type": "execute_result"
    }
   ],
   "source": [
    "clf = DecisionTreeClassifier(max_depth=np.inf)\n",
    "clf.fit(X_train, y_train)"
   ]
  },
  {
   "cell_type": "code",
   "execution_count": 20,
   "metadata": {},
   "outputs": [],
   "source": [
    "def predicate(gender, income, family_number):\n",
    "    X_test = np.zeros((1, 3))\n",
    "    X_test[0, 0] = le1.transform([gender])[0]\n",
    "    X_test[0, 1] = le2.transform([income])[0]\n",
    "    X_test[0, 2] = family_number\n",
    "    return clf.predict(X_test)[0]"
   ]
  },
  {
   "cell_type": "code",
   "execution_count": 21,
   "metadata": {},
   "outputs": [
    {
     "data": {
      "text/plain": [
       "1"
      ]
     },
     "execution_count": 21,
     "metadata": {},
     "output_type": "execute_result"
    }
   ],
   "source": [
    "predicate(\"M\", \"-10\", 1)"
   ]
  },
  {
   "cell_type": "markdown",
   "metadata": {},
   "source": [
    "<评阅点>\n",
    "> + 是否将之前的决策树模型的部分进行合并组装， predicate函数能够顺利运行(8')\n",
    "+ 是够能够输入未曾见过的X变量，例如gender, income, family_number 分别是： <M, -10, 1>, 模型能够预测出结果 (12')"
   ]
  },
  {
   "cell_type": "markdown",
   "metadata": {},
   "source": [
    "2. 将上一节课(第二节课)的线性回归问题中的Loss函数改成\"绝对值\"，并且改变其偏导的求值方式，观察其结果的变化。(19 point)"
   ]
  },
  {
   "cell_type": "code",
   "execution_count": 22,
   "metadata": {},
   "outputs": [],
   "source": [
    "class LinearRegression():\n",
    "    def fit(self, X, y):\n",
    "        X_mean = np.mean(X, axis=0)\n",
    "        y_mean = np.mean(y)\n",
    "        X_train = X - X_mean\n",
    "        y_train = y - y_mean\n",
    "        theta = np.zeros(X_train.shape[1])\n",
    "        res = minimize(fun=cost_gradient, jac=True, x0=theta,\n",
    "                       args=(X_train, y_train), method='L-BFGS-B')\n",
    "        self.coef_ = res.x\n",
    "        self.intercept_ = y_mean - np.dot(X_mean, self.coef_)\n",
    "        return self\n",
    "\n",
    "    def predict(self, X):\n",
    "        y_pred = np.dot(X, self.coef_) + self.intercept_\n",
    "        return y_pred"
   ]
  },
  {
   "cell_type": "markdown",
   "metadata": {},
   "source": [
    "$$L = \\frac{1}{2m}\\sum_{i=1}^{n}{(w^Tx_i - y_i)^2}$$\n",
    "\n",
    "$$\\frac{\\partial L}{\\partial w} = \\frac{1}{m}\\sum_{i=1}^{n}{(w^Tx_i-y_i)x_i}$$"
   ]
  },
  {
   "cell_type": "code",
   "execution_count": 23,
   "metadata": {},
   "outputs": [],
   "source": [
    "# 线性回归常用Loss\n",
    "def cost_gradient(theta, X, y):\n",
    "    h = np.dot(X, theta) - y\n",
    "    J = np.dot(h, h) / (2 * X.shape[0])\n",
    "    grad = np.dot(X.T, h) / X.shape[0]\n",
    "    return J, grad"
   ]
  },
  {
   "cell_type": "code",
   "execution_count": 24,
   "metadata": {},
   "outputs": [
    {
     "name": "stdout",
     "output_type": "stream",
     "text": [
      "[ 5.87752404 11.72916058 17.58079713]\n"
     ]
    },
    {
     "data": {
      "image/png": "[encoded data removed]",
      "text/plain": [
       "<Figure size 432x288 with 1 Axes>"
      ]
     },
     "metadata": {
      "needs_background": "light"
     },
     "output_type": "display_data"
    }
   ],
   "source": [
    "# 数据集\n",
    "rng = np.random.RandomState(0)\n",
    "X = np.random.random((20, 1))\n",
    "y = 13.4 * X + 5 + rng.randint(-5, 5, size=(20, 1))\n",
    "y = y.ravel()\n",
    "# 完成线性回归模型\n",
    "reg = LinearRegression()\n",
    "reg.fit(X, y)\n",
    "# 进行预测新数据\n",
    "pred = reg.predict([[0], [0.5], [1]])\n",
    "print(pred)\n",
    "# 进行可视化操作\n",
    "plt.figure()\n",
    "plt.scatter(X.ravel(), y)\n",
    "x1, x2 = plt.gca().get_xlim()\n",
    "y1, y2 = reg.predict([[x1], [x2]])\n",
    "plt.plot([x1, x2], [y1, y2], color=\"r\")\n",
    "plt.show()"
   ]
  },
  {
   "cell_type": "markdown",
   "metadata": {},
   "source": [
    "$$L = \\frac{1}{m}\\sum_{i=1}^{n}{|w^Tx_i - y_i|}$$\n",
    "\n",
    "$$\\frac{\\partial L}{\\partial w} = \\frac{1}{m}\\sum_{i=1}^{n}{sign(w^Tx_i-y_i)x_i}$$"
   ]
  },
  {
   "cell_type": "code",
   "execution_count": 25,
   "metadata": {},
   "outputs": [],
   "source": [
    "# 线性回归绝对值Loss\n",
    "def cost_gradient(theta, X, y):\n",
    "    h = np.dot(X, theta) - y\n",
    "    J = np.abs(h) / X.shape[0]\n",
    "    grad = np.dot(X.T, np.sign(h)) / X.shape[0]\n",
    "    return J, grad"
   ]
  },
  {
   "cell_type": "code",
   "execution_count": 26,
   "metadata": {},
   "outputs": [
    {
     "name": "stdout",
     "output_type": "stream",
     "text": [
      "[ 3.56790065 11.91543019 20.26295972]\n"
     ]
    },
    {
     "data": {
      "image/png": "[encoded data removed]",
      "text/plain": [
       "<Figure size 432x288 with 1 Axes>"
      ]
     },
     "metadata": {
      "needs_background": "light"
     },
     "output_type": "display_data"
    }
   ],
   "source": [
    "# 数据集\n",
    "rng = np.random.RandomState(0)\n",
    "X = np.random.random((20, 1))\n",
    "y = 13.4 * X + 5 + rng.randint(-5, 5, size=(20, 1))\n",
    "y = y.ravel()\n",
    "# 完成线性回归模型\n",
    "reg = LinearRegression()\n",
    "reg.fit(X, y)\n",
    "# 进行预测新数据\n",
    "pred = reg.predict([[0], [0.5], [1]])\n",
    "print(pred)\n",
    "# 进行可视化操作\n",
    "plt.figure()\n",
    "plt.scatter(X.ravel(), y)\n",
    "x1, x2 = plt.gca().get_xlim()\n",
    "y1, y2 = reg.predict([[x1], [x2]])\n",
    "plt.plot([x1, x2], [y1, y2], color=\"r\")\n",
    "plt.show()"
   ]
  },
  {
   "cell_type": "markdown",
   "metadata": {},
   "source": [
    "<评阅点>\n",
    "+ 是否将Loss改成了“绝对值”(3')\n",
    "+ 是否完成了偏导的重新定义(5')\n",
    "+ 新的模型Loss是否能够收敛 (11’)"
   ]
  }
 ],
 "metadata": {
  "kernelspec": {
   "display_name": "work",
   "language": "python",
   "name": "work"
  },
  "language_info": {
   "codemirror_mode": {
    "name": "ipython",
    "version": 3
   },
   "file_extension": ".py",
   "mimetype": "text/x-python",
   "name": "python",
   "nbconvert_exporter": "python",
   "pygments_lexer": "ipython3",
   "version": "3.7.3"
  }
 },
 "nbformat": 4,
 "nbformat_minor": 2
}
